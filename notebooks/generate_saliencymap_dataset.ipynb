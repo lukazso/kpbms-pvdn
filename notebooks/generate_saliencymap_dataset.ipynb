{
 "cells": [
  {
   "cell_type": "markdown",
   "metadata": {
    "collapsed": true,
    "pycharm": {
     "name": "#%% md\n"
    }
   },
   "source": [
    "## File structure\n",
    "\n",
    "First, download the scene-specific parameters from [Google Drive](https://drive.google.com/drive/folders/1jWjJDcpYJ6cNECV1USC0dg0xRwMTSRWb?usp=sharing).\n",
    "\n",
    "In your PVDN dataset (day cycle) directory, the downloaded parameter config files have to be stored like this:\n",
    "```\n",
    "/path/to/PVDN/day/<split>/labels/kpbms_params\n",
    "├── S*****.json\n",
    "├── S*****.json\n",
    "├── ....\n",
    "├── S*****.json\n",
    "```\n",
    "\n",
    "For example, for the **val** split, this would look like this:\n",
    "```\n",
    "/path/to/PVDN/day/val/labels/kpbms_params\n",
    "├── S00071.json\n",
    "├── S00092.json\n",
    "├── S00100.json\n",
    "├── S00101.json\n",
    "├── S00121.json\n",
    "├── S00123.json\n",
    "├── S00126.json\n",
    "├── S00132.json\n",
    "├── S00135.json\n",
    "├── S00164.json\n",
    "├── S00168.json\n",
    "├── S00192.json\n",
    "├── S00195.json\n",
    "├── S00260.json\n",
    "├── S00284.json\n",
    "├── S00294.json\n",
    "├── S00309.json\n",
    "├── S00355.json\n",
    "├── S00370.json\n",
    "└── S00372.json\n",
    "```\n",
    "\n",
    "A scene config file looks like this (example: S00071):\n",
    "```\n",
    "{\n",
    "    \"kernel_size\": 300,\n",
    "    \"lower_direct\": 0.7000000000000001,\n",
    "    \"lower_indirect\": 0.9,\n",
    "    \"n\": 6,\n",
    "    \"selem_size\": 13,\n",
    "    \"sigma\": 0,\n",
    "    \"upper_direct\": 1.0,\n",
    "    \"upper_indirect\": 1.0\n",
    "}\n",
    "```\n",
    "\n",
    "## Generate the dataset\n",
    "The following code will generate the dataset. For each image, two saliency maps will be stored -- one for direct, one for indirect light instances. The file structure will look like this:\n",
    "\n",
    "```\n",
    "/home/lukas/Development/datasets/PVDN_test/day/<split>/saliency_maps/direct\n",
    "├── S*****\n",
    "    ├── ******.png\n",
    "    ├── ******.png\n",
    "    ├── ...\n",
    "    ├── *****.png\n",
    "├── S*****\n",
    "    ├── ...\n",
    "├── S*****\n",
    "├── S00121\n",
    "├── S00123\n",
    "├── S00126\n",
    "├── S00132\n",
    "├── S00135\n",
    "├── S00164\n",
    "├── S00168\n",
    "├── S00192\n",
    "├── S00195\n",
    "├── S00260\n",
    "├── S00284\n",
    "├── S00294\n",
    "├── S00309\n",
    "├── S00355\n",
    "├── S00370\n",
    "└── S00372\n",
    "\n",
    "/home/lukas/Development/datasets/PVDN_test/day/<split>/saliency_maps/indirect\n",
    "├── S*****\n",
    "    ├── ******.png\n",
    "    ├── ******.png\n",
    "    ├── ...\n",
    "    ├── *****.png\n",
    "├── S*****\n",
    "    ├── ...\n",
    "├── S*****\n",
    "├── S00121\n",
    "├── S00123\n",
    "├── S00126\n",
    "├── S00132\n",
    "├── S00135\n",
    "├── S00164\n",
    "├── S00168\n",
    "├── S00192\n",
    "├── S00195\n",
    "├── S00260\n",
    "├── S00284\n",
    "├── S00294\n",
    "├── S00309\n",
    "├── S00355\n",
    "├── S00370\n",
    "└── S00372\n",
    "```\n",
    "\n",
    "### Run the code\n",
    "\n",
    "**Note:** Make sure to adjust the dataset paths in the second cell accordingly."
   ]
  },
  {
   "cell_type": "code",
   "execution_count": 1,
   "metadata": {
    "collapsed": false,
    "pycharm": {
     "is_executing": true,
     "name": "#%%\n"
    }
   },
   "outputs": [
    {
     "name": "stdout",
     "output_type": "stream",
     "text": [
      "Requirement already satisfied: pip in /home/lukas/Development/pycharm_workspace/kpbms-pvdn/venv/lib/python3.8/site-packages (22.2.2)\n",
      "Obtaining file:///home/lukas/Development/pycharm_workspace/kpbms-pvdn\n",
      "  Preparing metadata (setup.py) ... \u001b[?25ldone\n",
      "\u001b[?25hCollecting pvdn@ git+https://git@github.com/larsOhne/pvdn.git\n",
      "  Cloning https://****@github.com/larsOhne/pvdn.git to /tmp/pip-install-f113bdxo/pvdn_08763cef79064d1ab013e052d2d565a9\n",
      "  Running command git clone --filter=blob:none --quiet 'https://****@github.com/larsOhne/pvdn.git' /tmp/pip-install-f113bdxo/pvdn_08763cef79064d1ab013e052d2d565a9\n",
      "  Resolved https://****@github.com/larsOhne/pvdn.git to commit 80cc1d5a191ce0fce4eb4ba6ec7be33a7f94ca50\n",
      "  Preparing metadata (setup.py) ... \u001b[?25ldone\n",
      "\u001b[?25hRequirement already satisfied: numpy==1.20.1 in /home/lukas/Development/pycharm_workspace/kpbms-pvdn/venv/lib/python3.8/site-packages (from kpsaliency==0.0) (1.20.1)\n",
      "Requirement already satisfied: opencv-contrib-python in /home/lukas/Development/pycharm_workspace/kpbms-pvdn/venv/lib/python3.8/site-packages (from kpsaliency==0.0) (4.6.0.66)\n",
      "Requirement already satisfied: opencv-python in /home/lukas/Development/pycharm_workspace/kpbms-pvdn/venv/lib/python3.8/site-packages (from kpsaliency==0.0) (4.6.0.66)\n",
      "Requirement already satisfied: pandas==1.2.4 in /home/lukas/Development/pycharm_workspace/kpbms-pvdn/venv/lib/python3.8/site-packages (from kpsaliency==0.0) (1.2.4)\n",
      "Requirement already satisfied: scikit-image==0.18.1 in /home/lukas/Development/pycharm_workspace/kpbms-pvdn/venv/lib/python3.8/site-packages (from kpsaliency==0.0) (0.18.1)\n",
      "Requirement already satisfied: scipy==1.6.1 in /home/lukas/Development/pycharm_workspace/kpbms-pvdn/venv/lib/python3.8/site-packages (from kpsaliency==0.0) (1.6.1)\n",
      "Requirement already satisfied: tqdm==4.62.3 in /home/lukas/Development/pycharm_workspace/kpbms-pvdn/venv/lib/python3.8/site-packages (from kpsaliency==0.0) (4.62.3)\n",
      "Requirement already satisfied: typing-extensions==3.7.4.3 in /home/lukas/Development/pycharm_workspace/kpbms-pvdn/venv/lib/python3.8/site-packages (from kpsaliency==0.0) (3.7.4.3)\n",
      "Requirement already satisfied: hyperopt==0.2.7 in /home/lukas/Development/pycharm_workspace/kpbms-pvdn/venv/lib/python3.8/site-packages (from kpsaliency==0.0) (0.2.7)\n",
      "Requirement already satisfied: cloudpickle in /home/lukas/Development/pycharm_workspace/kpbms-pvdn/venv/lib/python3.8/site-packages (from hyperopt==0.2.7->kpsaliency==0.0) (2.1.0)\n",
      "Requirement already satisfied: py4j in /home/lukas/Development/pycharm_workspace/kpbms-pvdn/venv/lib/python3.8/site-packages (from hyperopt==0.2.7->kpsaliency==0.0) (0.10.9.5)\n",
      "Requirement already satisfied: future in /home/lukas/Development/pycharm_workspace/kpbms-pvdn/venv/lib/python3.8/site-packages (from hyperopt==0.2.7->kpsaliency==0.0) (0.18.2)\n",
      "Requirement already satisfied: six in /home/lukas/Development/pycharm_workspace/kpbms-pvdn/venv/lib/python3.8/site-packages (from hyperopt==0.2.7->kpsaliency==0.0) (1.16.0)\n",
      "Requirement already satisfied: networkx>=2.2 in /home/lukas/Development/pycharm_workspace/kpbms-pvdn/venv/lib/python3.8/site-packages (from hyperopt==0.2.7->kpsaliency==0.0) (2.8.4)\n",
      "Requirement already satisfied: pytz>=2017.3 in /home/lukas/Development/pycharm_workspace/kpbms-pvdn/venv/lib/python3.8/site-packages (from pandas==1.2.4->kpsaliency==0.0) (2022.1)\n",
      "Requirement already satisfied: python-dateutil>=2.7.3 in /home/lukas/Development/pycharm_workspace/kpbms-pvdn/venv/lib/python3.8/site-packages (from pandas==1.2.4->kpsaliency==0.0) (2.8.2)\n",
      "Requirement already satisfied: matplotlib!=3.0.0,>=2.0.0 in /home/lukas/Development/pycharm_workspace/kpbms-pvdn/venv/lib/python3.8/site-packages (from scikit-image==0.18.1->kpsaliency==0.0) (3.3.4)\n",
      "Requirement already satisfied: imageio>=2.3.0 in /home/lukas/Development/pycharm_workspace/kpbms-pvdn/venv/lib/python3.8/site-packages (from scikit-image==0.18.1->kpsaliency==0.0) (2.9.0)\n",
      "Requirement already satisfied: pillow!=7.1.0,!=7.1.1,>=4.3.0 in /home/lukas/Development/pycharm_workspace/kpbms-pvdn/venv/lib/python3.8/site-packages (from scikit-image==0.18.1->kpsaliency==0.0) (9.1.1)\n",
      "Requirement already satisfied: tifffile>=2019.7.26 in /home/lukas/Development/pycharm_workspace/kpbms-pvdn/venv/lib/python3.8/site-packages (from scikit-image==0.18.1->kpsaliency==0.0) (2022.5.4)\n",
      "Requirement already satisfied: PyWavelets>=1.1.1 in /home/lukas/Development/pycharm_workspace/kpbms-pvdn/venv/lib/python3.8/site-packages (from scikit-image==0.18.1->kpsaliency==0.0) (1.3.0)\n",
      "Requirement already satisfied: Markdown==3.3.4 in /home/lukas/Development/pycharm_workspace/kpbms-pvdn/venv/lib/python3.8/site-packages (from pvdn@ git+https://git@github.com/larsOhne/pvdn.git->kpsaliency==0.0) (3.3.4)\n",
      "Requirement already satisfied: PyYAML==5.4.1 in /home/lukas/Development/pycharm_workspace/kpbms-pvdn/venv/lib/python3.8/site-packages (from pvdn@ git+https://git@github.com/larsOhne/pvdn.git->kpsaliency==0.0) (5.4.1)\n",
      "Requirement already satisfied: gdown==3.12.0 in /home/lukas/Development/pycharm_workspace/kpbms-pvdn/venv/lib/python3.8/site-packages (from pvdn@ git+https://git@github.com/larsOhne/pvdn.git->kpsaliency==0.0) (3.12.0)\n",
      "Requirement already satisfied: kiwisolver==1.3.1 in /home/lukas/Development/pycharm_workspace/kpbms-pvdn/venv/lib/python3.8/site-packages (from pvdn@ git+https://git@github.com/larsOhne/pvdn.git->kpsaliency==0.0) (1.3.1)\n",
      "Requirement already satisfied: ptflops==0.6.6 in /home/lukas/Development/pycharm_workspace/kpbms-pvdn/venv/lib/python3.8/site-packages (from pvdn@ git+https://git@github.com/larsOhne/pvdn.git->kpsaliency==0.0) (0.6.6)\n",
      "Requirement already satisfied: pyarrow in /home/lukas/Development/pycharm_workspace/kpbms-pvdn/venv/lib/python3.8/site-packages (from pvdn@ git+https://git@github.com/larsOhne/pvdn.git->kpsaliency==0.0) (8.0.0)\n",
      "Requirement already satisfied: python_papi==5.5.1.5 in /home/lukas/Development/pycharm_workspace/kpbms-pvdn/venv/lib/python3.8/site-packages (from pvdn@ git+https://git@github.com/larsOhne/pvdn.git->kpsaliency==0.0) (5.5.1.5)\n",
      "Requirement already satisfied: sklearn in /home/lukas/Development/pycharm_workspace/kpbms-pvdn/venv/lib/python3.8/site-packages (from pvdn@ git+https://git@github.com/larsOhne/pvdn.git->kpsaliency==0.0) (0.0)\n",
      "Requirement already satisfied: setuptools~=45.2.0 in /home/lukas/Development/pycharm_workspace/kpbms-pvdn/venv/lib/python3.8/site-packages (from pvdn@ git+https://git@github.com/larsOhne/pvdn.git->kpsaliency==0.0) (45.2.0)\n",
      "Requirement already satisfied: torch==1.7.1 in /home/lukas/Development/pycharm_workspace/kpbms-pvdn/venv/lib/python3.8/site-packages (from pvdn@ git+https://git@github.com/larsOhne/pvdn.git->kpsaliency==0.0) (1.7.1)\n",
      "Requirement already satisfied: tensorboard-plugin-wit==1.8.0 in /home/lukas/Development/pycharm_workspace/kpbms-pvdn/venv/lib/python3.8/site-packages (from pvdn@ git+https://git@github.com/larsOhne/pvdn.git->kpsaliency==0.0) (1.8.0)\n",
      "Requirement already satisfied: tensorboard==2.4.1 in /home/lukas/Development/pycharm_workspace/kpbms-pvdn/venv/lib/python3.8/site-packages (from pvdn@ git+https://git@github.com/larsOhne/pvdn.git->kpsaliency==0.0) (2.4.1)\n",
      "Requirement already satisfied: tensorboardX==2.1 in /home/lukas/Development/pycharm_workspace/kpbms-pvdn/venv/lib/python3.8/site-packages (from pvdn@ git+https://git@github.com/larsOhne/pvdn.git->kpsaliency==0.0) (2.1)\n",
      "Requirement already satisfied: torchvision==0.8.2 in /home/lukas/Development/pycharm_workspace/kpbms-pvdn/venv/lib/python3.8/site-packages (from pvdn@ git+https://git@github.com/larsOhne/pvdn.git->kpsaliency==0.0) (0.8.2)\n",
      "Requirement already satisfied: filelock in /home/lukas/Development/pycharm_workspace/kpbms-pvdn/venv/lib/python3.8/site-packages (from gdown==3.12.0->pvdn@ git+https://git@github.com/larsOhne/pvdn.git->kpsaliency==0.0) (3.7.1)\n",
      "Requirement already satisfied: requests[socks] in /home/lukas/Development/pycharm_workspace/kpbms-pvdn/venv/lib/python3.8/site-packages (from gdown==3.12.0->pvdn@ git+https://git@github.com/larsOhne/pvdn.git->kpsaliency==0.0) (2.28.0)\n",
      "Requirement already satisfied: pyparsing!=2.0.4,!=2.1.2,!=2.1.6,>=2.0.3 in /home/lukas/Development/pycharm_workspace/kpbms-pvdn/venv/lib/python3.8/site-packages (from matplotlib!=3.0.0,>=2.0.0->scikit-image==0.18.1->kpsaliency==0.0) (3.0.9)\n",
      "Requirement already satisfied: cycler>=0.10 in /home/lukas/Development/pycharm_workspace/kpbms-pvdn/venv/lib/python3.8/site-packages (from matplotlib!=3.0.0,>=2.0.0->scikit-image==0.18.1->kpsaliency==0.0) (0.11.0)\n",
      "Requirement already satisfied: cffi>=1.0.0 in /home/lukas/Development/pycharm_workspace/kpbms-pvdn/venv/lib/python3.8/site-packages (from python_papi==5.5.1.5->pvdn@ git+https://git@github.com/larsOhne/pvdn.git->kpsaliency==0.0) (1.15.0)\n",
      "Requirement already satisfied: google-auth-oauthlib<0.5,>=0.4.1 in /home/lukas/Development/pycharm_workspace/kpbms-pvdn/venv/lib/python3.8/site-packages (from tensorboard==2.4.1->pvdn@ git+https://git@github.com/larsOhne/pvdn.git->kpsaliency==0.0) (0.4.6)\n",
      "Requirement already satisfied: absl-py>=0.4 in /home/lukas/Development/pycharm_workspace/kpbms-pvdn/venv/lib/python3.8/site-packages (from tensorboard==2.4.1->pvdn@ git+https://git@github.com/larsOhne/pvdn.git->kpsaliency==0.0) (1.1.0)\n",
      "Requirement already satisfied: protobuf>=3.6.0 in /home/lukas/Development/pycharm_workspace/kpbms-pvdn/venv/lib/python3.8/site-packages (from tensorboard==2.4.1->pvdn@ git+https://git@github.com/larsOhne/pvdn.git->kpsaliency==0.0) (4.21.1)\n",
      "Requirement already satisfied: grpcio>=1.24.3 in /home/lukas/Development/pycharm_workspace/kpbms-pvdn/venv/lib/python3.8/site-packages (from tensorboard==2.4.1->pvdn@ git+https://git@github.com/larsOhne/pvdn.git->kpsaliency==0.0) (1.46.3)\n",
      "Requirement already satisfied: werkzeug>=0.11.15 in /home/lukas/Development/pycharm_workspace/kpbms-pvdn/venv/lib/python3.8/site-packages (from tensorboard==2.4.1->pvdn@ git+https://git@github.com/larsOhne/pvdn.git->kpsaliency==0.0) (2.1.2)\n",
      "Requirement already satisfied: google-auth<2,>=1.6.3 in /home/lukas/Development/pycharm_workspace/kpbms-pvdn/venv/lib/python3.8/site-packages (from tensorboard==2.4.1->pvdn@ git+https://git@github.com/larsOhne/pvdn.git->kpsaliency==0.0) (1.35.0)\n",
      "Requirement already satisfied: wheel>=0.26 in /home/lukas/Development/pycharm_workspace/kpbms-pvdn/venv/lib/python3.8/site-packages (from tensorboard==2.4.1->pvdn@ git+https://git@github.com/larsOhne/pvdn.git->kpsaliency==0.0) (0.37.1)\n",
      "Requirement already satisfied: scikit-learn in /home/lukas/Development/pycharm_workspace/kpbms-pvdn/venv/lib/python3.8/site-packages (from sklearn->pvdn@ git+https://git@github.com/larsOhne/pvdn.git->kpsaliency==0.0) (1.1.1)\n",
      "Requirement already satisfied: pycparser in /home/lukas/Development/pycharm_workspace/kpbms-pvdn/venv/lib/python3.8/site-packages (from cffi>=1.0.0->python_papi==5.5.1.5->pvdn@ git+https://git@github.com/larsOhne/pvdn.git->kpsaliency==0.0) (2.21)\n",
      "Requirement already satisfied: cachetools<5.0,>=2.0.0 in /home/lukas/Development/pycharm_workspace/kpbms-pvdn/venv/lib/python3.8/site-packages (from google-auth<2,>=1.6.3->tensorboard==2.4.1->pvdn@ git+https://git@github.com/larsOhne/pvdn.git->kpsaliency==0.0) (4.2.4)\n",
      "Requirement already satisfied: rsa<5,>=3.1.4 in /home/lukas/Development/pycharm_workspace/kpbms-pvdn/venv/lib/python3.8/site-packages (from google-auth<2,>=1.6.3->tensorboard==2.4.1->pvdn@ git+https://git@github.com/larsOhne/pvdn.git->kpsaliency==0.0) (4.8)\n",
      "Requirement already satisfied: pyasn1-modules>=0.2.1 in /home/lukas/Development/pycharm_workspace/kpbms-pvdn/venv/lib/python3.8/site-packages (from google-auth<2,>=1.6.3->tensorboard==2.4.1->pvdn@ git+https://git@github.com/larsOhne/pvdn.git->kpsaliency==0.0) (0.2.8)\n",
      "Requirement already satisfied: requests-oauthlib>=0.7.0 in /home/lukas/Development/pycharm_workspace/kpbms-pvdn/venv/lib/python3.8/site-packages (from google-auth-oauthlib<0.5,>=0.4.1->tensorboard==2.4.1->pvdn@ git+https://git@github.com/larsOhne/pvdn.git->kpsaliency==0.0) (1.3.1)\n",
      "Requirement already satisfied: charset-normalizer~=2.0.0 in /home/lukas/Development/pycharm_workspace/kpbms-pvdn/venv/lib/python3.8/site-packages (from requests[socks]->gdown==3.12.0->pvdn@ git+https://git@github.com/larsOhne/pvdn.git->kpsaliency==0.0) (2.0.12)\n",
      "Requirement already satisfied: idna<4,>=2.5 in /home/lukas/Development/pycharm_workspace/kpbms-pvdn/venv/lib/python3.8/site-packages (from requests[socks]->gdown==3.12.0->pvdn@ git+https://git@github.com/larsOhne/pvdn.git->kpsaliency==0.0) (3.3)\n",
      "Requirement already satisfied: certifi>=2017.4.17 in /home/lukas/Development/pycharm_workspace/kpbms-pvdn/venv/lib/python3.8/site-packages (from requests[socks]->gdown==3.12.0->pvdn@ git+https://git@github.com/larsOhne/pvdn.git->kpsaliency==0.0) (2022.5.18.1)\n",
      "Requirement already satisfied: urllib3<1.27,>=1.21.1 in /home/lukas/Development/pycharm_workspace/kpbms-pvdn/venv/lib/python3.8/site-packages (from requests[socks]->gdown==3.12.0->pvdn@ git+https://git@github.com/larsOhne/pvdn.git->kpsaliency==0.0) (1.26.9)\n",
      "Requirement already satisfied: PySocks!=1.5.7,>=1.5.6 in /home/lukas/Development/pycharm_workspace/kpbms-pvdn/venv/lib/python3.8/site-packages (from requests[socks]->gdown==3.12.0->pvdn@ git+https://git@github.com/larsOhne/pvdn.git->kpsaliency==0.0) (1.7.1)\n",
      "Requirement already satisfied: threadpoolctl>=2.0.0 in /home/lukas/Development/pycharm_workspace/kpbms-pvdn/venv/lib/python3.8/site-packages (from scikit-learn->sklearn->pvdn@ git+https://git@github.com/larsOhne/pvdn.git->kpsaliency==0.0) (3.1.0)\n",
      "Requirement already satisfied: joblib>=1.0.0 in /home/lukas/Development/pycharm_workspace/kpbms-pvdn/venv/lib/python3.8/site-packages (from scikit-learn->sklearn->pvdn@ git+https://git@github.com/larsOhne/pvdn.git->kpsaliency==0.0) (1.1.0)\n",
      "Requirement already satisfied: pyasn1<0.5.0,>=0.4.6 in /home/lukas/Development/pycharm_workspace/kpbms-pvdn/venv/lib/python3.8/site-packages (from pyasn1-modules>=0.2.1->google-auth<2,>=1.6.3->tensorboard==2.4.1->pvdn@ git+https://git@github.com/larsOhne/pvdn.git->kpsaliency==0.0) (0.4.8)\n",
      "Requirement already satisfied: oauthlib>=3.0.0 in /home/lukas/Development/pycharm_workspace/kpbms-pvdn/venv/lib/python3.8/site-packages (from requests-oauthlib>=0.7.0->google-auth-oauthlib<0.5,>=0.4.1->tensorboard==2.4.1->pvdn@ git+https://git@github.com/larsOhne/pvdn.git->kpsaliency==0.0) (3.2.0)\n",
      "Installing collected packages: kpsaliency\n",
      "  Attempting uninstall: kpsaliency\n",
      "    Found existing installation: kpsaliency 0.0\n",
      "    Uninstalling kpsaliency-0.0:\n",
      "      Successfully uninstalled kpsaliency-0.0\n",
      "  Running setup.py develop for kpsaliency\n",
      "Successfully installed kpsaliency-0.0\n"
     ]
    }
   ],
   "source": [
    "!pip install pip --upgrade\n",
    "!pip install -e ..  # install our package\n",
    "\n",
    "import os\n",
    "from tqdm import tqdm\n",
    "\n",
    "from torch.utils.data import DataLoader\n",
    "\n",
    "from kpsaliency.datasets import CumulatedSaliencyMapDataset as SaliencyMapDataset\n",
    "from kpsaliency.datasets import cumulated_collate_fn as collate_fn\n",
    "from kpsaliency.generators import KPBMSGenerator"
   ]
  },
  {
   "cell_type": "code",
   "execution_count": 2,
   "metadata": {
    "collapsed": false,
    "pycharm": {
     "name": "#%%\n"
    }
   },
   "outputs": [],
   "source": [
    "## setup all paths\n",
    "\n",
    "dataset_dir = \"/home/lukas/Development/datasets/PVDN/day\"   # adapt this to your\n",
    "                                    # specific path\n",
    "splits = (\"train\", \"val\", \"test\")\n",
    "\n",
    "assert os.path.exists(dataset_dir)\n",
    "for split in splits:\n",
    "    assert os.path.exists(os.path.join(dataset_dir, split))\n"
   ]
  },
  {
   "cell_type": "code",
   "execution_count": null,
   "metadata": {
    "collapsed": false,
    "pycharm": {
     "is_executing": true,
     "name": "#%%\n"
    }
   },
   "outputs": [],
   "source": [
    "## run the dataset generation process\n",
    "\n",
    "for split in splits:\n",
    "    # setup and check paths\n",
    "    split_dir = os.path.join(dataset_dir, split)\n",
    "    params_dir = os.path.join(split_dir, \"labels/kpbms_params\")\n",
    "    if not os.path.isdir(params_dir):\n",
    "        raise NotADirectoryError(f\"{params_dir} not found. Please check that you set\"\n",
    "                                 f\" up the parameter directories properly.\")\n",
    "\n",
    "    # setup dataset\n",
    "    dataset = SaliencyMapDataset(split_dir)\n",
    "\n",
    "    # setup scene-specific generators\n",
    "    generators = {\n",
    "        s.split(\".\")[0]: KPBMSGenerator.from_json(os.path.join(params_dir, s))\n",
    "        for s in os.listdir(params_dir)\n",
    "    }\n",
    "\n",
    "    # run generation\n",
    "    print(split)\n",
    "    dataset.generate_dataset(bms_generator=generators, n_workers=4)"
   ]
  },
  {
   "cell_type": "markdown",
   "metadata": {},
   "source": [
    "## Evaluating the quality of the generated dataset\n",
    "\n",
    "As soon as you generated the dataset you can assess its quality based on the metrics described in the paper. A script version for evaluating your dataset quality is also provided in [scripts/evaluate_kpbms_groundtruth.py](../scripts/evaluate_kpbms_groundtruth.py)."
   ]
  },
  {
   "cell_type": "code",
   "execution_count": 3,
   "metadata": {},
   "outputs": [
    {
     "name": "stdout",
     "output_type": "stream",
     "text": [
      "Split: train\n"
     ]
    },
    {
     "ename": "NameError",
     "evalue": "name 'base_path' is not defined",
     "output_type": "error",
     "traceback": [
      "\u001b[0;31m---------------------------------------------------------------------------\u001b[0m",
      "\u001b[0;31mNameError\u001b[0m                                 Traceback (most recent call last)",
      "\u001b[1;32m/home/lukas/Development/pycharm_workspace/kpbms-pvdn/notebooks/generate_saliencymap_dataset.ipynb Cell 6\u001b[0m in \u001b[0;36m<cell line: 9>\u001b[0;34m()\u001b[0m\n\u001b[1;32m     <a href='vscode-notebook-cell:/home/lukas/Development/pycharm_workspace/kpbms-pvdn/notebooks/generate_saliencymap_dataset.ipynb#W6sZmlsZQ%3D%3D?line=9'>10</a>\u001b[0m \u001b[39mprint\u001b[39m(\u001b[39m\"\u001b[39m\u001b[39mSplit:\u001b[39m\u001b[39m\"\u001b[39m, split)\n\u001b[1;32m     <a href='vscode-notebook-cell:/home/lukas/Development/pycharm_workspace/kpbms-pvdn/notebooks/generate_saliencymap_dataset.ipynb#W6sZmlsZQ%3D%3D?line=10'>11</a>\u001b[0m split_dir \u001b[39m=\u001b[39m os\u001b[39m.\u001b[39mpath\u001b[39m.\u001b[39mjoin(dataset_dir, split)\n\u001b[1;32m     <a href='vscode-notebook-cell:/home/lukas/Development/pycharm_workspace/kpbms-pvdn/notebooks/generate_saliencymap_dataset.ipynb#W6sZmlsZQ%3D%3D?line=11'>12</a>\u001b[0m box_dir \u001b[39m=\u001b[39m os\u001b[39m.\u001b[39mpath\u001b[39m.\u001b[39mjoin(\n\u001b[0;32m---> <a href='vscode-notebook-cell:/home/lukas/Development/pycharm_workspace/kpbms-pvdn/notebooks/generate_saliencymap_dataset.ipynb#W6sZmlsZQ%3D%3D?line=12'>13</a>\u001b[0m     base_path, \u001b[39m\"\u001b[39m\u001b[39mlabels/kpbms_boxes\u001b[39m\u001b[39m\"\u001b[39m\n\u001b[1;32m     <a href='vscode-notebook-cell:/home/lukas/Development/pycharm_workspace/kpbms-pvdn/notebooks/generate_saliencymap_dataset.ipynb#W6sZmlsZQ%3D%3D?line=13'>14</a>\u001b[0m )\n\u001b[1;32m     <a href='vscode-notebook-cell:/home/lukas/Development/pycharm_workspace/kpbms-pvdn/notebooks/generate_saliencymap_dataset.ipynb#W6sZmlsZQ%3D%3D?line=14'>15</a>\u001b[0m dataset \u001b[39m=\u001b[39m SaliencyBoxDataset(path\u001b[39m=\u001b[39msplit_dir, load_images\u001b[39m=\u001b[39m\u001b[39mFalse\u001b[39;00m,\n\u001b[1;32m     <a href='vscode-notebook-cell:/home/lukas/Development/pycharm_workspace/kpbms-pvdn/notebooks/generate_saliencymap_dataset.ipynb#W6sZmlsZQ%3D%3D?line=15'>16</a>\u001b[0m                             bbox_path\u001b[39m=\u001b[39mbox_dir)\n\u001b[1;32m     <a href='vscode-notebook-cell:/home/lukas/Development/pycharm_workspace/kpbms-pvdn/notebooks/generate_saliencymap_dataset.ipynb#W6sZmlsZQ%3D%3D?line=16'>17</a>\u001b[0m evaluator \u001b[39m=\u001b[39m DatasetEvaluator()\n",
      "\u001b[0;31mNameError\u001b[0m: name 'base_path' is not defined"
     ]
    }
   ],
   "source": [
    "import argparse\n",
    "import json\n",
    "import os\n",
    "\n",
    "from kpsaliency.datasets import SaliencyBoxDataset\n",
    "from kpsaliency.metrics.bboxes import DatasetEvaluator\n",
    "\n",
    "\n",
    "for split in (\"train\", \"val\", \"test\"):\n",
    "    print(\"Split:\", split)\n",
    "    split_dir = os.path.join(dataset_dir, split)\n",
    "    box_dir = os.path.join(\n",
    "        split_dir, \"labels/kpbms_boxes\"\n",
    "    )\n",
    "    dataset = SaliencyBoxDataset(path=split_dir, load_images=False,\n",
    "                                bbox_path=box_dir)\n",
    "    evaluator = DatasetEvaluator()\n",
    "    prec, rec, fsc, kp_quality, kp_quality_std, box_quality, box_quality_std, combined = evaluator.evaluate_dataset(dataset, verbose=True)\n"
   ]
  },
  {
   "cell_type": "markdown",
   "metadata": {
    "pycharm": {
     "name": "#%% md\n"
    }
   },
   "source": [
    "## Using the `SaliencyMapDataset`-class for your pipelines\n",
    "\n",
    "After you generated the dataset following the steps above, you can use the class for your experiment pipelines:"
   ]
  },
  {
   "cell_type": "code",
   "execution_count": null,
   "metadata": {
    "collapsed": false,
    "pycharm": {
     "is_executing": true,
     "name": "#%%\n"
    }
   },
   "outputs": [],
   "source": [
    "\n",
    "dataset = SaliencyMapDataset(\n",
    "    path=os.path.join(dataset_dir, \"test\")  # using test split in this example\n",
    ")\n",
    "\n",
    "dataloader = DataLoader(\n",
    "    dataset=dataset,\n",
    "    batch_size=4,\n",
    "    shuffle=False,\n",
    "    collate_fn=collate_fn   # note custom collate_fn\n",
    ")\n",
    "\n",
    "for imgs, smaps_direct, smaps_indirect, infos, vehicles in tqdm(dataloader):\n",
    "    # do something here\n",
    "    pass"
   ]
  }
 ],
 "metadata": {
  "kernelspec": {
   "display_name": "Python 3.8.10 ('venv': venv)",
   "language": "python",
   "name": "python3"
  },
  "language_info": {
   "codemirror_mode": {
    "name": "ipython",
    "version": 3
   },
   "file_extension": ".py",
   "mimetype": "text/x-python",
   "name": "python",
   "nbconvert_exporter": "python",
   "pygments_lexer": "ipython3",
   "version": "3.8.10"
  },
  "vscode": {
   "interpreter": {
    "hash": "91fe56c5e2124e00678905795c10e31eb68b12b8b365f9643410209af76e629f"
   }
  }
 },
 "nbformat": 4,
 "nbformat_minor": 0
}
