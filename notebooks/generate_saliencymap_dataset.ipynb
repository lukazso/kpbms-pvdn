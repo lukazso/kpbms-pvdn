{
 "cells": [
  {
   "cell_type": "markdown",
   "metadata": {
    "collapsed": true,
    "pycharm": {
     "name": "#%% md\n"
    }
   },
   "source": [
    "## File structure\n",
    "\n",
    "First, download the scene-specific parameters from [Google Drive](https://drive.google.com/drive/folders/1jWjJDcpYJ6cNECV1USC0dg0xRwMTSRWb?usp=sharing).\n",
    "\n",
    "In your PVDN dataset (day cycle) directory, the downloaded parameter config files have to be stored like this:\n",
    "```\n",
    "/path/to/PVDN/day/<split>/labels/kpbms_params\n",
    "├── S*****.json\n",
    "├── S*****.json\n",
    "├── ....\n",
    "├── S*****.json\n",
    "```\n",
    "\n",
    "For example, for the **val** split, this would look like this:\n",
    "```\n",
    "/path/to/PVDN/day/val/labels/kpbms_params\n",
    "├── S00071.json\n",
    "├── S00092.json\n",
    "├── S00100.json\n",
    "├── S00101.json\n",
    "├── S00121.json\n",
    "├── S00123.json\n",
    "├── S00126.json\n",
    "├── S00132.json\n",
    "├── S00135.json\n",
    "├── S00164.json\n",
    "├── S00168.json\n",
    "├── S00192.json\n",
    "├── S00195.json\n",
    "├── S00260.json\n",
    "├── S00284.json\n",
    "├── S00294.json\n",
    "├── S00309.json\n",
    "├── S00355.json\n",
    "├── S00370.json\n",
    "└── S00372.json\n",
    "```\n",
    "\n",
    "A scene config file looks like this (example: S00071):\n",
    "```\n",
    "{\n",
    "    \"kernel_size\": 300,\n",
    "    \"lower_direct\": 0.7000000000000001,\n",
    "    \"lower_indirect\": 0.9,\n",
    "    \"n\": 6,\n",
    "    \"selem_size\": 13,\n",
    "    \"sigma\": 0,\n",
    "    \"upper_direct\": 1.0,\n",
    "    \"upper_indirect\": 1.0\n",
    "}\n",
    "```\n",
    "\n",
    "## Generate the dataset\n",
    "The following code will generate the dataset. For each image, two saliency maps will be stored -- one for direct, one for indirect light instances. The file structure will look like this:\n",
    "\n",
    "```\n",
    "/home/lukas/Development/datasets/PVDN_test/day/<split>/saliency_maps/direct\n",
    "├── S*****\n",
    "    ├── ******.png\n",
    "    ├── ******.png\n",
    "    ├── ...\n",
    "    ├── *****.png\n",
    "├── S*****\n",
    "    ├── ...\n",
    "├── S*****\n",
    "├── S00121\n",
    "├── S00123\n",
    "├── S00126\n",
    "├── S00132\n",
    "├── S00135\n",
    "├── S00164\n",
    "├── S00168\n",
    "├── S00192\n",
    "├── S00195\n",
    "├── S00260\n",
    "├── S00284\n",
    "├── S00294\n",
    "├── S00309\n",
    "├── S00355\n",
    "├── S00370\n",
    "└── S00372\n",
    "\n",
    "/home/lukas/Development/datasets/PVDN_test/day/<split>/saliency_maps/indirect\n",
    "├── S*****\n",
    "    ├── ******.png\n",
    "    ├── ******.png\n",
    "    ├── ...\n",
    "    ├── *****.png\n",
    "├── S*****\n",
    "    ├── ...\n",
    "├── S*****\n",
    "├── S00121\n",
    "├── S00123\n",
    "├── S00126\n",
    "├── S00132\n",
    "├── S00135\n",
    "├── S00164\n",
    "├── S00168\n",
    "├── S00192\n",
    "├── S00195\n",
    "├── S00260\n",
    "├── S00284\n",
    "├── S00294\n",
    "├── S00309\n",
    "├── S00355\n",
    "├── S00370\n",
    "└── S00372\n",
    "```\n",
    "\n",
    "### Run the code\n",
    "\n",
    "**Note:** Make sure to adjust the dataset paths in the second cell accordingly."
   ]
  },
  {
   "cell_type": "code",
   "execution_count": null,
   "metadata": {
    "collapsed": false,
    "pycharm": {
     "is_executing": true,
     "name": "#%%\n"
    }
   },
   "outputs": [],
   "source": [
    "!pip install pip --upgrade\n",
    "!pip install -e ..  # install our package\n",
    "\n",
    "import os\n",
    "from tqdm import tqdm\n",
    "\n",
    "from torch.utils.data import DataLoader\n",
    "\n",
    "from kpsaliency.datasets import CumulatedSaliencyMapDataset as SaliencyMapDataset\n",
    "from kpsaliency.datasets import cumulated_collate_fn as collate_fn\n",
    "from kpsaliency.generators import KPBMSGenerator"
   ]
  },
  {
   "cell_type": "code",
   "execution_count": 2,
   "metadata": {
    "collapsed": false,
    "pycharm": {
     "name": "#%%\n"
    }
   },
   "outputs": [],
   "source": [
    "## setup all paths\n",
    "\n",
    "dataset_dir = \"/home/lukas/Development/datasets/PVDN/day\"   # adapt this to your\n",
    "                                    # specific path\n",
    "splits = (\"train\", \"val\", \"test\")\n",
    "\n",
    "assert os.path.exists(dataset_dir)\n",
    "for split in splits:\n",
    "    assert os.path.exists(os.path.join(dataset_dir, split))\n"
   ]
  },
  {
   "cell_type": "code",
   "execution_count": null,
   "metadata": {
    "collapsed": false,
    "pycharm": {
     "is_executing": true,
     "name": "#%%\n"
    }
   },
   "outputs": [],
   "source": [
    "## run the dataset generation process\n",
    "\n",
    "for split in splits:\n",
    "    # setup and check paths\n",
    "    split_dir = os.path.join(dataset_dir, split)\n",
    "    params_dir = os.path.join(split_dir, \"labels/kpbms_params\")\n",
    "    if not os.path.isdir(params_dir):\n",
    "        raise NotADirectoryError(f\"{params_dir} not found. Please check that you set\"\n",
    "                                 f\" up the parameter directories properly.\")\n",
    "\n",
    "    # setup dataset\n",
    "    dataset = SaliencyMapDataset(split_dir)\n",
    "\n",
    "    # setup scene-specific generators\n",
    "    generators = {\n",
    "        s.split(\".\")[0]: KPBMSGenerator.from_json(os.path.join(params_dir, s))\n",
    "        for s in os.listdir(params_dir)\n",
    "    }\n",
    "\n",
    "    # run generation\n",
    "    print(split)\n",
    "    dataset.generate_dataset(bms_generator=generators, n_workers=4)"
   ]
  },
  {
   "cell_type": "markdown",
   "metadata": {
    "pycharm": {
     "name": "#%% md\n"
    }
   },
   "source": [
    "## Using the `SaliencyMapDataset`-class for your pipelines\n",
    "\n",
    "After you generated the dataset following the steps above, you can use the class for your experiment pipelines:"
   ]
  },
  {
   "cell_type": "code",
   "execution_count": null,
   "metadata": {
    "collapsed": false,
    "pycharm": {
     "is_executing": true,
     "name": "#%%\n"
    }
   },
   "outputs": [],
   "source": [
    "\n",
    "dataset = SaliencyMapDataset(\n",
    "    path=os.path.join(dataset_dir, \"test\")  # using test split in this example\n",
    ")\n",
    "\n",
    "dataloader = DataLoader(\n",
    "    dataset=dataset,\n",
    "    batch_size=4,\n",
    "    shuffle=False,\n",
    "    collate_fn=collate_fn   # note custom collate_fn\n",
    ")\n",
    "\n",
    "for imgs, smaps_direct, smaps_indirect, infos, vehicles in tqdm(dataloader):\n",
    "    # do something here\n",
    "    pass"
   ]
  }
 ],
 "metadata": {
  "kernelspec": {
   "display_name": "Python 3.8.10 ('venv': venv)",
   "language": "python",
   "name": "python3"
  },
  "language_info": {
   "codemirror_mode": {
    "name": "ipython",
    "version": 3
   },
   "file_extension": ".py",
   "mimetype": "text/x-python",
   "name": "python",
   "nbconvert_exporter": "python",
   "pygments_lexer": "ipython3",
   "version": "3.8.10"
  },
  "vscode": {
   "interpreter": {
    "hash": "91fe56c5e2124e00678905795c10e31eb68b12b8b365f9643410209af76e629f"
   }
  }
 },
 "nbformat": 4,
 "nbformat_minor": 0
}
